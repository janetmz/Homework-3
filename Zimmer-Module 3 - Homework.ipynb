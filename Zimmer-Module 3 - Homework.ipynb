{
 "cells": [
  {
   "cell_type": "markdown",
   "metadata": {},
   "source": [
    "### Exercise 1\n",
    "Ask a user for 5 names and place each one in to a list called <i>names</i>. Then, print <i>names</i>."
   ]
  },
  {
   "cell_type": "code",
   "execution_count": null,
   "metadata": {},
   "outputs": [],
   "source": [
    "#Ask the user to input 5 names\n",
    "names = []\n",
    "N1 = input(f\"Please enter a name:\\t\")\n",
    "names.append (N1)\n",
    "N2 = input(f\"Please enter a second name:\\t\")\n",
    "names.append (N2)\n",
    "N3 = input(f\"Please enter a third name:\\t\")\n",
    "names.append (N3)\n",
    "N4 = input(f\"Almost there - please enter a fourth name:\\t\")\n",
    "names.append (N4)\n",
    "N5 = input (f\"Last one - enter a fifth name:\\t\")\n",
    "names.append (N5)\n",
    "print (\"\\nThe list of the names of my 5 brothers is: \",names)"
   ]
  },
  {
   "cell_type": "markdown",
   "metadata": {},
   "source": [
    "### Exercise 2\n",
    "Print out a randomly selected name in the names list."
   ]
  },
  {
   "cell_type": "code",
   "execution_count": null,
   "metadata": {},
   "outputs": [],
   "source": [
    "import random\n",
    "selection = random.randint(0,5)\n",
    "print (f\"The random number chosen was \\t{selection}\")\n",
    "selected = names[selection]\n",
    "print (f\"I randomly selected {selected} from the list of names of my brothers\")"
   ]
  },
  {
   "cell_type": "markdown",
   "metadata": {},
   "source": [
    "### Exercise 3\n",
    "\n",
    "Ask a user for a specific color and store that value into a variable. If the answer is gray, print \"You found Victor's favorite color!\". If the answer is anything besides gray, print \"[color name] is not Victor's favorite color.\""
   ]
  },
  {
   "cell_type": "code",
   "execution_count": null,
   "metadata": {},
   "outputs": [],
   "source": [
    "#Ask user to enter a specific color\n",
    "chosen_color = input (\"Please enter any color of choice.\\t\")\n",
    "print (f\"\\nThe color you entered was {chosen_color}\")\n",
    "if chosen_color == \"gray\" or chosen_color == \"grey\":\n",
    "    print (\"\\nYou found Victor's favorite color!\")\n",
    "else:\n",
    "    print (f\"\\n{chosen_color} is not Victor's favorite color\")"
   ]
  },
  {
   "cell_type": "markdown",
   "metadata": {},
   "source": [
    "### Exercise 4\n",
    "Ask for an exam score and store that number. If the number is greater than 100, then print out 'You cannot have an exam score higher than 100'. If the number doesn't exceeed 100 but is greater than or equal to 75, then print out 'You did great on your exam!'. Otherwise if they scored lower than 75, then print out 'You need to study harder'."
   ]
  },
  {
   "cell_type": "code",
   "execution_count": null,
   "metadata": {},
   "outputs": [],
   "source": [
    "# Test results\n",
    "score = float(input(\"please enter your test score:\\t\"))\n",
    "if score > 100:\n",
    "    print (\"That score is our of range\")\n",
    "elif score >= 75:\n",
    "    print (\"You did great on your exam\")\n",
    "else:\n",
    "    print (\"You need to study harder.\")"
   ]
  },
  {
   "cell_type": "markdown",
   "metadata": {},
   "source": [
    "### Exercise 5\n",
    "Write a function to convert a test score to a grade where  \n",
    " - 90 - 100: A\n",
    " - 80 - 89:  B\n",
    " - 70 - 79:  C\n",
    " - 60 - 69:  D\n",
    " - < 60   :  F\n",
    " \n",
    "If a score is not between 0 and 100 then print out an error message. In the program, ask the user for a score and then call your function. "
   ]
  },
  {
   "cell_type": "code",
   "execution_count": null,
   "metadata": {},
   "outputs": [],
   "source": [
    "#Convert test scores to letter grades\n",
    "def conversion (s):\n",
    "    if s >= 90.0:\n",
    "        letter = \"A\"\n",
    "    elif s >= 80.0:\n",
    "        letter = \"B\"\n",
    "    elif s >= 70.0:\n",
    "        letter = \"C\"\n",
    "    elif s >= 60.0:\n",
    "        letter = \"D\"\n",
    "    else:\n",
    "        letter = \"F\"\n",
    "    return print (f\"Your grade on this exam was {letter}\")\n",
    "\n",
    "grade = float(input(\"Please enter your test score\\t\"))\n",
    "\n",
    "#Check if score is within range\n",
    "if grade > 100 or grade < 0:\n",
    "    print (\"That score is out of range.\")\n",
    "else:\n",
    "    conversion (grade)"
   ]
  }
 ],
 "metadata": {
  "kernelspec": {
   "display_name": "Python 3",
   "language": "python",
   "name": "python3"
  },
  "language_info": {
   "codemirror_mode": {
    "name": "ipython",
    "version": 3
   },
   "file_extension": ".py",
   "mimetype": "text/x-python",
   "name": "python",
   "nbconvert_exporter": "python",
   "pygments_lexer": "ipython3",
   "version": "3.8.8"
  }
 },
 "nbformat": 4,
 "nbformat_minor": 4
}
